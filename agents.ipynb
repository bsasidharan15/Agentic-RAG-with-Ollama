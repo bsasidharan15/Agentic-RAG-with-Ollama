{
 "cells": [
  {
   "cell_type": "code",
   "execution_count": 54,
   "id": "cf5ee38c",
   "metadata": {},
   "outputs": [
    {
     "name": "stderr",
     "output_type": "stream",
     "text": [
      "huggingface/tokenizers: The current process just got forked, after parallelism has already been used. Disabling parallelism to avoid deadlocks...\n",
      "To disable this warning, you can either:\n",
      "\t- Avoid using `tokenizers` before the fork if possible\n",
      "\t- Explicitly set the environment variable TOKENIZERS_PARALLELISM=(true | false)\n"
     ]
    },
    {
     "name": "stdout",
     "output_type": "stream",
     "text": [
      "Defaulting to user installation because normal site-packages is not writeable\n",
      "Requirement already satisfied: langchain in /home/azureuser/.local/lib/python3.10/site-packages (0.3.23)\n",
      "Requirement already satisfied: langchain-community in /home/azureuser/.local/lib/python3.10/site-packages (0.3.21)\n",
      "Requirement already satisfied: langchain-ollama in /home/azureuser/.local/lib/python3.10/site-packages (0.3.1)\n",
      "Collecting faiss-cpu\n",
      "  Downloading faiss_cpu-1.10.0-cp310-cp310-manylinux_2_28_x86_64.whl.metadata (4.4 kB)\n",
      "Requirement already satisfied: tiktoken in /home/azureuser/.local/lib/python3.10/site-packages (0.9.0)\n",
      "Requirement already satisfied: langchain-core<1.0.0,>=0.3.51 in /home/azureuser/.local/lib/python3.10/site-packages (from langchain) (0.3.51)\n",
      "Requirement already satisfied: langchain-text-splitters<1.0.0,>=0.3.8 in /home/azureuser/.local/lib/python3.10/site-packages (from langchain) (0.3.8)\n",
      "Requirement already satisfied: langsmith<0.4,>=0.1.17 in /home/azureuser/.local/lib/python3.10/site-packages (from langchain) (0.2.4)\n",
      "Requirement already satisfied: pydantic<3.0.0,>=2.7.4 in /home/azureuser/.local/lib/python3.10/site-packages (from langchain) (2.10.0)\n",
      "Requirement already satisfied: SQLAlchemy<3,>=1.4 in /home/azureuser/.local/lib/python3.10/site-packages (from langchain) (2.0.36)\n",
      "Requirement already satisfied: requests<3,>=2 in /home/azureuser/.local/lib/python3.10/site-packages (from langchain) (2.31.0)\n",
      "Requirement already satisfied: PyYAML>=5.3 in /home/azureuser/.local/lib/python3.10/site-packages (from langchain) (6.0.2)\n",
      "Requirement already satisfied: async-timeout<5.0.0,>=4.0.0 in /home/azureuser/.local/lib/python3.10/site-packages (from langchain) (4.0.3)\n",
      "Requirement already satisfied: aiohttp<4.0.0,>=3.8.3 in /home/azureuser/.local/lib/python3.10/site-packages (from langchain-community) (3.11.11)\n",
      "Requirement already satisfied: tenacity!=8.4.0,<10,>=8.1.0 in /home/azureuser/.local/lib/python3.10/site-packages (from langchain-community) (8.5.0)\n",
      "Requirement already satisfied: dataclasses-json<0.7,>=0.5.7 in /home/azureuser/.local/lib/python3.10/site-packages (from langchain-community) (0.6.7)\n",
      "Requirement already satisfied: pydantic-settings<3.0.0,>=2.4.0 in /home/azureuser/.local/lib/python3.10/site-packages (from langchain-community) (2.7.0)\n",
      "Requirement already satisfied: httpx-sse<1.0.0,>=0.4.0 in /home/azureuser/.local/lib/python3.10/site-packages (from langchain-community) (0.4.0)\n",
      "Requirement already satisfied: numpy<3,>=1.26.2 in /home/azureuser/.local/lib/python3.10/site-packages (from langchain-community) (1.26.4)\n",
      "Requirement already satisfied: ollama<1,>=0.4.4 in /home/azureuser/.local/lib/python3.10/site-packages (from langchain-ollama) (0.4.7)\n",
      "Requirement already satisfied: packaging in /home/azureuser/.local/lib/python3.10/site-packages (from faiss-cpu) (23.2)\n",
      "Requirement already satisfied: regex>=2022.1.18 in /home/azureuser/.local/lib/python3.10/site-packages (from tiktoken) (2024.11.6)\n",
      "Requirement already satisfied: aiohappyeyeballs>=2.3.0 in /home/azureuser/.local/lib/python3.10/site-packages (from aiohttp<4.0.0,>=3.8.3->langchain-community) (2.4.4)\n",
      "Requirement already satisfied: aiosignal>=1.1.2 in /home/azureuser/.local/lib/python3.10/site-packages (from aiohttp<4.0.0,>=3.8.3->langchain-community) (1.3.2)\n",
      "Requirement already satisfied: attrs>=17.3.0 in /home/azureuser/.local/lib/python3.10/site-packages (from aiohttp<4.0.0,>=3.8.3->langchain-community) (24.3.0)\n",
      "Requirement already satisfied: frozenlist>=1.1.1 in /home/azureuser/.local/lib/python3.10/site-packages (from aiohttp<4.0.0,>=3.8.3->langchain-community) (1.5.0)\n",
      "Requirement already satisfied: multidict<7.0,>=4.5 in /home/azureuser/.local/lib/python3.10/site-packages (from aiohttp<4.0.0,>=3.8.3->langchain-community) (6.1.0)\n",
      "Requirement already satisfied: propcache>=0.2.0 in /home/azureuser/.local/lib/python3.10/site-packages (from aiohttp<4.0.0,>=3.8.3->langchain-community) (0.2.1)\n",
      "Requirement already satisfied: yarl<2.0,>=1.17.0 in /home/azureuser/.local/lib/python3.10/site-packages (from aiohttp<4.0.0,>=3.8.3->langchain-community) (1.18.3)\n",
      "Requirement already satisfied: marshmallow<4.0.0,>=3.18.0 in /home/azureuser/.local/lib/python3.10/site-packages (from dataclasses-json<0.7,>=0.5.7->langchain-community) (3.23.2)\n",
      "Requirement already satisfied: typing-inspect<1,>=0.4.0 in /home/azureuser/.local/lib/python3.10/site-packages (from dataclasses-json<0.7,>=0.5.7->langchain-community) (0.9.0)\n",
      "Requirement already satisfied: jsonpatch<2.0,>=1.33 in /home/azureuser/.local/lib/python3.10/site-packages (from langchain-core<1.0.0,>=0.3.51->langchain) (1.33)\n",
      "Requirement already satisfied: typing-extensions>=4.7 in /home/azureuser/.local/lib/python3.10/site-packages (from langchain-core<1.0.0,>=0.3.51->langchain) (4.12.2)\n",
      "Requirement already satisfied: httpx<1,>=0.23.0 in /home/azureuser/.local/lib/python3.10/site-packages (from langsmith<0.4,>=0.1.17->langchain) (0.27.2)\n",
      "Requirement already satisfied: orjson<4.0.0,>=3.9.14 in /home/azureuser/.local/lib/python3.10/site-packages (from langsmith<0.4,>=0.1.17->langchain) (3.10.12)\n",
      "Requirement already satisfied: requests-toolbelt<2.0.0,>=1.0.0 in /home/azureuser/.local/lib/python3.10/site-packages (from langsmith<0.4,>=0.1.17->langchain) (1.0.0)\n",
      "Requirement already satisfied: annotated-types>=0.6.0 in /home/azureuser/.local/lib/python3.10/site-packages (from pydantic<3.0.0,>=2.7.4->langchain) (0.7.0)\n",
      "Requirement already satisfied: pydantic-core==2.27.0 in /home/azureuser/.local/lib/python3.10/site-packages (from pydantic<3.0.0,>=2.7.4->langchain) (2.27.0)\n",
      "Requirement already satisfied: python-dotenv>=0.21.0 in /home/azureuser/.local/lib/python3.10/site-packages (from pydantic-settings<3.0.0,>=2.4.0->langchain-community) (1.0.1)\n",
      "Requirement already satisfied: charset-normalizer<4,>=2 in /home/azureuser/.local/lib/python3.10/site-packages (from requests<3,>=2->langchain) (3.4.0)\n",
      "Requirement already satisfied: idna<4,>=2.5 in /usr/lib/python3/dist-packages (from requests<3,>=2->langchain) (3.3)\n",
      "Requirement already satisfied: urllib3<3,>=1.21.1 in /home/azureuser/.local/lib/python3.10/site-packages (from requests<3,>=2->langchain) (2.3.0)\n",
      "Requirement already satisfied: certifi>=2017.4.17 in /home/azureuser/.local/lib/python3.10/site-packages (from requests<3,>=2->langchain) (2024.12.14)\n",
      "Requirement already satisfied: greenlet!=0.4.17 in /home/azureuser/.local/lib/python3.10/site-packages (from SQLAlchemy<3,>=1.4->langchain) (3.1.1)\n",
      "Requirement already satisfied: anyio in /home/azureuser/.local/lib/python3.10/site-packages (from httpx<1,>=0.23.0->langsmith<0.4,>=0.1.17->langchain) (4.7.0)\n",
      "Requirement already satisfied: httpcore==1.* in /home/azureuser/.local/lib/python3.10/site-packages (from httpx<1,>=0.23.0->langsmith<0.4,>=0.1.17->langchain) (1.0.7)\n",
      "Requirement already satisfied: sniffio in /home/azureuser/.local/lib/python3.10/site-packages (from httpx<1,>=0.23.0->langsmith<0.4,>=0.1.17->langchain) (1.3.1)\n",
      "Requirement already satisfied: h11<0.15,>=0.13 in /home/azureuser/.local/lib/python3.10/site-packages (from httpcore==1.*->httpx<1,>=0.23.0->langsmith<0.4,>=0.1.17->langchain) (0.14.0)\n",
      "Requirement already satisfied: jsonpointer>=1.9 in /usr/lib/python3/dist-packages (from jsonpatch<2.0,>=1.33->langchain-core<1.0.0,>=0.3.51->langchain) (2.0)\n",
      "Requirement already satisfied: mypy-extensions>=0.3.0 in /home/azureuser/.local/lib/python3.10/site-packages (from typing-inspect<1,>=0.4.0->dataclasses-json<0.7,>=0.5.7->langchain-community) (1.0.0)\n",
      "Requirement already satisfied: exceptiongroup>=1.0.2 in /home/azureuser/.local/lib/python3.10/site-packages (from anyio->httpx<1,>=0.23.0->langsmith<0.4,>=0.1.17->langchain) (1.2.2)\n",
      "Downloading faiss_cpu-1.10.0-cp310-cp310-manylinux_2_28_x86_64.whl (30.7 MB)\n",
      "\u001b[2K   \u001b[90m━━━━━━━━━━━━━━━━━━━━━━━━━━━━━━━━━━━━━━━━\u001b[0m \u001b[32m30.7/30.7 MB\u001b[0m \u001b[31m47.7 MB/s\u001b[0m eta \u001b[36m0:00:00\u001b[0ma \u001b[36m0:00:01\u001b[0m\n",
      "\u001b[?25hInstalling collected packages: faiss-cpu\n",
      "Successfully installed faiss-cpu-1.10.0\n",
      "Note: you may need to restart the kernel to use updated packages.\n"
     ]
    }
   ],
   "source": [
    "%pip install langchain langchain-community langchain-ollama faiss-cpu tiktoken"
   ]
  },
  {
   "cell_type": "code",
   "execution_count": 60,
   "id": "491419f7",
   "metadata": {},
   "outputs": [
    {
     "name": "stdout",
     "output_type": "stream",
     "text": [
      "📄 Loaded document from knowledge_base.txt\n",
      "🧩 Document split into 5 chunks.\n",
      "✅ Embeddings stored in ChromaDB.\n",
      "🔍 Retriever initialized.\n"
     ]
    }
   ],
   "source": [
    "from langchain_community.document_loaders import TextLoader\n",
    "from langchain.text_splitter import RecursiveCharacterTextSplitter\n",
    "from langchain_ollama.embeddings import OllamaEmbeddings\n",
    "from langchain_community.vectorstores import FAISS\n",
    "\n",
    "# Load data from a text file\n",
    "loader = TextLoader(\"/home/azureuser/User_Sasi/ai_chatbot/Medical Rerort - Michael Johnson - Panic Attack Disorder.txt\")  # Replace with your knowledge base\n",
    "documents = loader.load()\n",
    "print(\"📄 Loaded document from knowledge_base.txt\")\n",
    "\n",
    "# Split data into manageable chunks\n",
    "text_splitter = RecursiveCharacterTextSplitter(chunk_size=500, chunk_overlap=50)\n",
    "docs = text_splitter.split_documents(documents)\n",
    "print(f\"🧩 Document split into {len(docs)} chunks.\")\n",
    "\n",
    "# Create a vector store using Ollama's embeddings and ChromaDB\n",
    "embeddings = OllamaEmbeddings(model=\"llama3\")\n",
    "vector_store = FAISS.from_documents(docs, embeddings)\n",
    "\n",
    "print(\"✅ Embeddings stored in ChromaDB.\")\n",
    "\n",
    "# Initialize a retriever for querying the vector store\n",
    "retriever = vector_store.as_retriever(search_type=\"similarity\", search_kwargs={\"k\": 3})\n",
    "print(\"🔍 Retriever initialized.\")"
   ]
  },
  {
   "cell_type": "code",
   "execution_count": 61,
   "id": "bcac84f0",
   "metadata": {},
   "outputs": [],
   "source": [
    "from langchain.tools import Tool\n",
    "\n",
    "# Example tool: Weather API simulator\n",
    "def get_weather(location: str):\n",
    "    return f\"The current weather in {location} is sunny and 25°C.\"\n",
    "\n",
    "# Define the weather tool\n",
    "weather_tool = Tool(\n",
    "    name=\"Weather Tool\",\n",
    "    func=get_weather,\n",
    "    description=\"Provides weather information for a given location.\"\n",
    ")\n"
   ]
  },
  {
   "cell_type": "code",
   "execution_count": 62,
   "id": "94583dce",
   "metadata": {},
   "outputs": [
    {
     "name": "stdout",
     "output_type": "stream",
     "text": [
      "💬 Ollama LLM loaded.\n",
      "🔗 RetrievalQA chain created.\n"
     ]
    }
   ],
   "source": [
    "from langchain_ollama import ChatOllama\n",
    "from langchain.chains import RetrievalQA\n",
    "\n",
    "# Initialize the Ollama LLM\n",
    "llm = ChatOllama(model=\"mistral-nemo:latest\")\n",
    "print(\"💬 Ollama LLM loaded.\")\n",
    "\n",
    "# Create the Retrieval QA chain\n",
    "retrieval_qa_chain = RetrievalQA.from_chain_type(\n",
    "    llm=llm,\n",
    "    retriever=retriever,\n",
    "    return_source_documents=True\n",
    ")\n",
    "print(\"🔗 RetrievalQA chain created.\")\n"
   ]
  },
  {
   "cell_type": "code",
   "execution_count": 63,
   "id": "7ddd3ef9",
   "metadata": {},
   "outputs": [
    {
     "name": "stdout",
     "output_type": "stream",
     "text": [
      "🤖 Agent initialized with tools.\n"
     ]
    }
   ],
   "source": [
    "from langchain.agents import initialize_agent, Tool, AgentType\n",
    "\n",
    "# Tool: Connect the document retriever to the agent\n",
    "retrieval_tool = Tool(\n",
    "    name=\"Document Retrieval\",\n",
    "    func=lambda q: retrieval_qa_chain.invoke(q)[\"result\"],\n",
    "    description=\"Retrieves answers from the document database.\"\n",
    ")\n",
    "\n",
    "# Combine tools into the agent\n",
    "tools = [retrieval_tool, weather_tool]\n",
    "\n",
    "# Initialize the agent with Ollama and tools\n",
    "agent = initialize_agent(\n",
    "    tools=tools,\n",
    "    llm=llm,\n",
    "    agent=AgentType.ZERO_SHOT_REACT_DESCRIPTION,\n",
    "    verbose=True,\n",
    "    handle_parsing_errors=True\n",
    ")\n",
    "print(\"🤖 Agent initialized with tools.\")\n"
   ]
  },
  {
   "cell_type": "code",
   "execution_count": 68,
   "id": "e867f610",
   "metadata": {},
   "outputs": [
    {
     "name": "stdout",
     "output_type": "stream",
     "text": [
      "\n",
      "\n",
      "\u001b[1m> Entering new AgentExecutor chain...\u001b[0m\n",
      "\u001b[32;1m\u001b[1;3mFirst, let's find out if there's information about Michael Johnson having any anxiety problems. Then we'll check the current temperature in India.\n",
      "\n",
      "Action: Document Retrieval\n",
      "Action Input: \"Michael Johnson anxiety\"\u001b[0m\n",
      "Observation: \u001b[36;1m\u001b[1;3mBased on the provided context, Michael Johnson is experiencing sudden episodes of intense chest pain, heart palpitations, shortness of breath, dizziness, sweating, and a feeling of impending doom. These symptoms suggest that he might be suffering from panic attacks, which are often associated with anxiety disorders.\n",
      "\n",
      "Here's why:\n",
      "\n",
      "1. **Symptoms**: The symptoms Michael is experiencing are classic symptoms of panic attacks.\n",
      "2. **Anxiety History**: He reports using Lorazepam (a medication often used to treat anxiety) as needed for anxiety.\n",
      "3. **Lifestyle Factors**: His high-stress job as an investment banker could be a contributing factor.\n",
      "\n",
      "However, I don't know if Michael has been formally diagnosed with panic disorder or any other mental health condition based on the provided context. For a definitive answer, it would be best to consult with a healthcare professional who can review his complete medical history and conduct appropriate evaluations.\u001b[0m\n",
      "Thought:\u001b[32;1m\u001b[1;3mNow let's check the current temperature in India.\n",
      "\n",
      "Action: Weather Tool\n",
      "Action Input: \"India\"\u001b[0m\n",
      "Observation: \u001b[33;1m\u001b[1;3mThe current weather in India is sunny and 25°C.\u001b[0m\n",
      "Thought:\u001b[32;1m\u001b[1;3mI now know the final answer.\n",
      "\n",
      "Final Answer: Michael Johnson might be experiencing anxiety problems as indicated by his symptoms, though it's not confirmed without a formal diagnosis. Currently, the temperature in India is 25°C with sunny weather.\u001b[0m\n",
      "\n",
      "\u001b[1m> Finished chain.\u001b[0m\n"
     ]
    },
    {
     "data": {
      "text/plain": [
       "\"Michael Johnson might be experiencing anxiety problems as indicated by his symptoms, though it's not confirmed without a formal diagnosis. Currently, the temperature in India is 25°C with sunny weather.\""
      ]
     },
     "execution_count": 68,
     "metadata": {},
     "output_type": "execute_result"
    }
   ],
   "source": [
    "agent.run(\"WDoes Michael Johnson have any anxiety problem and what is the temperature in India now?\")  # Query the agent\n",
    "#agent.run(\"What is the weather in New York?\")  # Query the weather tool"
   ]
  }
 ],
 "metadata": {
  "kernelspec": {
   "display_name": "Python 3",
   "language": "python",
   "name": "python3"
  },
  "language_info": {
   "codemirror_mode": {
    "name": "ipython",
    "version": 3
   },
   "file_extension": ".py",
   "mimetype": "text/x-python",
   "name": "python",
   "nbconvert_exporter": "python",
   "pygments_lexer": "ipython3",
   "version": "3.10.12"
  }
 },
 "nbformat": 4,
 "nbformat_minor": 5
}
